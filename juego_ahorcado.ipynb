{
  "nbformat": 4,
  "nbformat_minor": 0,
  "metadata": {
    "colab": {
      "provenance": [],
      "authorship_tag": "ABX9TyOQfvXhAbS8R1bSBF5mH4iW",
      "include_colab_link": true
    },
    "kernelspec": {
      "name": "python3",
      "display_name": "Python 3"
    },
    "language_info": {
      "name": "python"
    }
  },
  "cells": [
    {
      "cell_type": "markdown",
      "metadata": {
        "id": "view-in-github",
        "colab_type": "text"
      },
      "source": [
        "<a href=\"https://colab.research.google.com/github/jonathansteven36/Juego-ahorcado/blob/main/juego_ahorcado.ipynb\" target=\"_parent\"><img src=\"https://colab.research.google.com/assets/colab-badge.svg\" alt=\"Open In Colab\"/></a>"
      ]
    },
    {
      "cell_type": "code",
      "source": [],
      "metadata": {
        "id": "r5qZe7vH6D1d"
      },
      "execution_count": 2,
      "outputs": []
    },
    {
      "cell_type": "code",
      "execution_count": 6,
      "metadata": {
        "colab": {
          "base_uri": "https://localhost:8080/",
          "height": 391
        },
        "id": "ZOMBhRMZ56KX",
        "outputId": "25bc34d6-f4ce-4093-b567-281924f22a3f"
      },
      "outputs": [
        {
          "output_type": "stream",
          "name": "stdout",
          "text": [
            "¡Bienvenido al juego del Ahorcado!\n",
            "Tienes 6 intentos.\n",
            "_ _ _ _ _ _ _ _ _ _ _ _ \n",
            "Letras incorrectas adivinadas: \n"
          ]
        },
        {
          "output_type": "error",
          "ename": "KeyboardInterrupt",
          "evalue": "Interrupted by user",
          "traceback": [
            "\u001b[0;31m---------------------------------------------------------------------------\u001b[0m",
            "\u001b[0;31mKeyboardInterrupt\u001b[0m                         Traceback (most recent call last)",
            "\u001b[0;32m<ipython-input-6-4923d94f1723>\u001b[0m in \u001b[0;36m<cell line: 0>\u001b[0;34m()\u001b[0m\n\u001b[1;32m    124\u001b[0m \u001b[0;31m# Código principal que implementa las funciones\u001b[0m\u001b[0;34m\u001b[0m\u001b[0;34m\u001b[0m\u001b[0m\n\u001b[1;32m    125\u001b[0m \u001b[0;32mif\u001b[0m \u001b[0m__name__\u001b[0m \u001b[0;34m==\u001b[0m \u001b[0;34m\"__main__\"\u001b[0m\u001b[0;34m:\u001b[0m\u001b[0;34m\u001b[0m\u001b[0;34m\u001b[0m\u001b[0m\n\u001b[0;32m--> 126\u001b[0;31m     \u001b[0mjugar_ahorcado\u001b[0m\u001b[0;34m(\u001b[0m\u001b[0;34m)\u001b[0m\u001b[0;34m\u001b[0m\u001b[0;34m\u001b[0m\u001b[0m\n\u001b[0m",
            "\u001b[0;32m<ipython-input-6-4923d94f1723>\u001b[0m in \u001b[0;36mjugar_ahorcado\u001b[0;34m()\u001b[0m\n\u001b[1;32m     93\u001b[0m         \u001b[0mprint\u001b[0m\u001b[0;34m(\u001b[0m\u001b[0;34mf\"Letras incorrectas adivinadas: {', '.join(letras_incorrectas)}\"\u001b[0m\u001b[0;34m)\u001b[0m\u001b[0;34m\u001b[0m\u001b[0;34m\u001b[0m\u001b[0m\n\u001b[1;32m     94\u001b[0m \u001b[0;34m\u001b[0m\u001b[0m\n\u001b[0;32m---> 95\u001b[0;31m         \u001b[0mintento\u001b[0m \u001b[0;34m=\u001b[0m \u001b[0minput\u001b[0m\u001b[0;34m(\u001b[0m\u001b[0;34m\"Ingresa una letra: \"\u001b[0m\u001b[0;34m)\u001b[0m\u001b[0;34m.\u001b[0m\u001b[0mlower\u001b[0m\u001b[0;34m(\u001b[0m\u001b[0;34m)\u001b[0m\u001b[0;34m\u001b[0m\u001b[0;34m\u001b[0m\u001b[0m\n\u001b[0m\u001b[1;32m     96\u001b[0m \u001b[0;34m\u001b[0m\u001b[0m\n\u001b[1;32m     97\u001b[0m         \u001b[0;32mif\u001b[0m \u001b[0mlen\u001b[0m\u001b[0;34m(\u001b[0m\u001b[0mintento\u001b[0m\u001b[0;34m)\u001b[0m \u001b[0;34m!=\u001b[0m \u001b[0;36m1\u001b[0m \u001b[0;32mor\u001b[0m \u001b[0;32mnot\u001b[0m \u001b[0mintento\u001b[0m\u001b[0;34m.\u001b[0m\u001b[0misalpha\u001b[0m\u001b[0;34m(\u001b[0m\u001b[0;34m)\u001b[0m\u001b[0;34m:\u001b[0m\u001b[0;34m\u001b[0m\u001b[0;34m\u001b[0m\u001b[0m\n",
            "\u001b[0;32m/usr/local/lib/python3.11/dist-packages/ipykernel/kernelbase.py\u001b[0m in \u001b[0;36mraw_input\u001b[0;34m(self, prompt)\u001b[0m\n\u001b[1;32m   1175\u001b[0m                 \u001b[0;34m\"raw_input was called, but this frontend does not support input requests.\"\u001b[0m\u001b[0;34m\u001b[0m\u001b[0;34m\u001b[0m\u001b[0m\n\u001b[1;32m   1176\u001b[0m             )\n\u001b[0;32m-> 1177\u001b[0;31m         return self._input_request(\n\u001b[0m\u001b[1;32m   1178\u001b[0m             \u001b[0mstr\u001b[0m\u001b[0;34m(\u001b[0m\u001b[0mprompt\u001b[0m\u001b[0;34m)\u001b[0m\u001b[0;34m,\u001b[0m\u001b[0;34m\u001b[0m\u001b[0;34m\u001b[0m\u001b[0m\n\u001b[1;32m   1179\u001b[0m             \u001b[0mself\u001b[0m\u001b[0;34m.\u001b[0m\u001b[0m_parent_ident\u001b[0m\u001b[0;34m[\u001b[0m\u001b[0;34m\"shell\"\u001b[0m\u001b[0;34m]\u001b[0m\u001b[0;34m,\u001b[0m\u001b[0;34m\u001b[0m\u001b[0;34m\u001b[0m\u001b[0m\n",
            "\u001b[0;32m/usr/local/lib/python3.11/dist-packages/ipykernel/kernelbase.py\u001b[0m in \u001b[0;36m_input_request\u001b[0;34m(self, prompt, ident, parent, password)\u001b[0m\n\u001b[1;32m   1217\u001b[0m             \u001b[0;32mexcept\u001b[0m \u001b[0mKeyboardInterrupt\u001b[0m\u001b[0;34m:\u001b[0m\u001b[0;34m\u001b[0m\u001b[0;34m\u001b[0m\u001b[0m\n\u001b[1;32m   1218\u001b[0m                 \u001b[0;31m# re-raise KeyboardInterrupt, to truncate traceback\u001b[0m\u001b[0;34m\u001b[0m\u001b[0;34m\u001b[0m\u001b[0m\n\u001b[0;32m-> 1219\u001b[0;31m                 \u001b[0;32mraise\u001b[0m \u001b[0mKeyboardInterrupt\u001b[0m\u001b[0;34m(\u001b[0m\u001b[0;34m\"Interrupted by user\"\u001b[0m\u001b[0;34m)\u001b[0m \u001b[0;32mfrom\u001b[0m \u001b[0;32mNone\u001b[0m\u001b[0;34m\u001b[0m\u001b[0;34m\u001b[0m\u001b[0m\n\u001b[0m\u001b[1;32m   1220\u001b[0m             \u001b[0;32mexcept\u001b[0m \u001b[0mException\u001b[0m\u001b[0;34m:\u001b[0m\u001b[0;34m\u001b[0m\u001b[0;34m\u001b[0m\u001b[0m\n\u001b[1;32m   1221\u001b[0m                 \u001b[0mself\u001b[0m\u001b[0;34m.\u001b[0m\u001b[0mlog\u001b[0m\u001b[0;34m.\u001b[0m\u001b[0mwarning\u001b[0m\u001b[0;34m(\u001b[0m\u001b[0;34m\"Invalid Message:\"\u001b[0m\u001b[0;34m,\u001b[0m \u001b[0mexc_info\u001b[0m\u001b[0;34m=\u001b[0m\u001b[0;32mTrue\u001b[0m\u001b[0;34m)\u001b[0m\u001b[0;34m\u001b[0m\u001b[0;34m\u001b[0m\u001b[0m\n",
            "\u001b[0;31mKeyboardInterrupt\u001b[0m: Interrupted by user"
          ]
        }
      ],
      "source": [
        "import random\n",
        "\n",
        "def seleccionar_palabra():\n",
        "    \"\"\"Selecciona una palabra aleatoria de una lista.\"\"\"\n",
        "    palabras = [\"programacion\", \"python\", \"computadora\", \"algoritmo\", \"desarrollo\", \"tecnologia\", \"inteligencia\"]\n",
        "    return random.choice(palabras).lower()\n",
        "\n",
        "def mostrar_tablero(palabra, letras_correctas):\n",
        "    \"\"\"Muestra el tablero del ahorcado con las letras correctas adivinadas.\"\"\"\n",
        "    tablero = \"\"\n",
        "    for letra in palabra:\n",
        "        if letra in letras_correctas:\n",
        "            tablero += letra + \" \"\n",
        "        else:\n",
        "            tablero += \"_ \"\n",
        "    print(tablero)\n",
        "\n",
        "def dibujar_ahorcado(errores):\n",
        "    \"\"\"Dibuja la figura del ahorcado según el número de errores.\"\"\"\n",
        "    estados_ahorcado = [\n",
        "        \"\"\"\n",
        "           -----\n",
        "           |   |\n",
        "               |\n",
        "               |\n",
        "               |\n",
        "        -------\n",
        "        \"\"\",\n",
        "        \"\"\"\n",
        "           -----\n",
        "           |   |\n",
        "           O   |\n",
        "               |\n",
        "               |\n",
        "        -------\n",
        "        \"\"\",\n",
        "        \"\"\"\n",
        "           -----\n",
        "           |   |\n",
        "           O   |\n",
        "           |   |\n",
        "               |\n",
        "        -------\n",
        "        \"\"\",\n",
        "        \"\"\"\n",
        "           -----\n",
        "           |   |\n",
        "           O   |\n",
        "          /|   |\n",
        "               |\n",
        "        -------\n",
        "        \"\"\",\n",
        "        \"\"\"\n",
        "           -----\n",
        "           |   |\n",
        "           O   |\n",
        "          /|\\  |\n",
        "               |\n",
        "        -------\n",
        "        \"\"\",\n",
        "        \"\"\"\n",
        "           -----\n",
        "           |   |\n",
        "           O   |\n",
        "          /|\\  |\n",
        "          /    |\n",
        "        -------\n",
        "        \"\"\",\n",
        "        \"\"\"\n",
        "           -----\n",
        "           |   |\n",
        "           O   |\n",
        "          /|\\  |\n",
        "          / \\  |\n",
        "        -------\n",
        "        \"\"\"\n",
        "    ]\n",
        "    print(estados_ahorcado[errores])\n",
        "\n",
        "def jugar_ahorcado():\n",
        "    \"\"\"Función principal para ejecutar el juego del ahorcado.\"\"\"\n",
        "    palabra_secreta = seleccionar_palabra()\n",
        "    intentos_maximos = 6\n",
        "    intentos_restantes = intentos_maximos\n",
        "    letras_correctas = set()\n",
        "    letras_incorrectas = set()\n",
        "\n",
        "    print(\"¡Bienvenido al juego del Ahorcado!\")\n",
        "    print(f\"Tienes {intentos_restantes} intentos.\")\n",
        "\n",
        "    while intentos_restantes > 0:\n",
        "        mostrar_tablero(palabra_secreta, letras_correctas)\n",
        "        print(f\"Letras incorrectas adivinadas: {', '.join(letras_incorrectas)}\")\n",
        "\n",
        "        intento = input(\"Ingresa una letra: \").lower()\n",
        "\n",
        "        if len(intento) != 1 or not intento.isalpha():\n",
        "            print(\"Por favor, ingresa una única letra válida.\")\n",
        "            continue\n",
        "\n",
        "        if intento in letras_correctas or intento in letras_incorrectas:\n",
        "            print(\"Ya has intentado esa letra. ¡Intenta con otra!\")\n",
        "            continue\n",
        "\n",
        "        if intento in palabra_secreta:\n",
        "            letras_correctas.add(intento)\n",
        "            print(\"¡Correcto!\")\n",
        "            if all(letra in letras_correctas for letra in palabra_secreta):\n",
        "                print(\"\\n¡Felicidades! ¡Adivinaste la palabra:\", palabra_secreta + \"!\")\n",
        "                break\n",
        "        else:\n",
        "            letras_incorrectas.add(intento)\n",
        "            intentos_restantes -= 1\n",
        "            print(f\"¡Incorrecto! Te quedan {intentos_restantes} intentos.\")\n",
        "            dibujar_ahorcado(intentos_maximos - intentos_restantes)\n",
        "\n",
        "        print(\"-\" * 20)\n",
        "\n",
        "    if intentos_restantes == 0:\n",
        "        print(\"\\n¡Te has quedado sin intentos!\")\n",
        "        print(\"La palabra secreta era:\", palabra_secreta)\n",
        "        dibujar_ahorcado(intentos_maximos)\n",
        "\n",
        "# Código principal que implementa las funciones\n",
        "if __name__ == \"__main__\":\n",
        "    jugar_ahorcado()"
      ]
    }
  ]
}